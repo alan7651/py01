{
 "cells": [
  {
   "cell_type": "code",
   "execution_count": 4,
   "metadata": {},
   "outputs": [
    {
     "name": "stdout",
     "output_type": "stream",
     "text": [
      "ALAN您好！您的BMI為31.56,屬於中度肥胖 \n",
      "應用程式結束\n"
     ]
    }
   ],
   "source": [
    "class Bmi():\n",
    "    def __init__(self,name:str,weight:float,height:float) -> None:\n",
    "        self.name = name\n",
    "        self.weight = weight\n",
    "        self.height = height / 100\n",
    "    \n",
    "    @property\n",
    "    def bmi(self)-> float:\n",
    "        return self.weight / self.height ** 2\n",
    "    \n",
    "    def status(self):\n",
    "        bmi = self.bmi\n",
    "        name = self.name\n",
    "\n",
    "        if bmi < 18.5:\n",
    "            print(f\"{name}您好！您的BMI為{bmi:.2f}, 體重過輕\")\n",
    "        elif bmi < 24:\n",
    "            print(f\"{name}您好！您的BMI為{bmi:.2f}, 屬於正常範圍\")\n",
    "        elif bmi < 27:\n",
    "            print(f\"{name}您好！您的BMI為{bmi:.2f},體重過重 \")\n",
    "        elif bmi < 30:\n",
    "            print(f\"{name}您好！您的BMI為{bmi:.2f},屬於輕度肥胖 \")\n",
    "        elif bmi < 35:\n",
    "            print(f\"{name}您好！您的BMI為{bmi:.2f},屬於中度肥胖 \")\n",
    "        else:\n",
    "            print(f\"{name}您好！您的BMI為{bmi:.2f},屬於重度肥胖 \")\n",
    "\n",
    "try:\n",
    "    name = input(\"請輸入姓名\")\n",
    "    height = float(input(\"請輸入身高(cm)\"))\n",
    "    weight = float(input(\"請輸入體重(kg)\"))\n",
    "\n",
    "    bmi_calculator = Bmi(name,weight,height)\n",
    "    bmi_calculator.status()\n",
    "\n",
    "except:\n",
    "    print(\"輸入格式錯誤\")\n",
    "\n",
    "print(\"應用程式結束\")\n",
    "    \n",
    "\n",
    "        "
   ]
  }
 ],
 "metadata": {
  "kernelspec": {
   "display_name": "Python 3",
   "language": "python",
   "name": "python3"
  },
  "language_info": {
   "codemirror_mode": {
    "name": "ipython",
    "version": 3
   },
   "file_extension": ".py",
   "mimetype": "text/x-python",
   "name": "python",
   "nbconvert_exporter": "python",
   "pygments_lexer": "ipython3",
   "version": "3.10.14"
  }
 },
 "nbformat": 4,
 "nbformat_minor": 2
}
