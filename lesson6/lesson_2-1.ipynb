{
 "cells": [
  {
   "cell_type": "code",
   "execution_count": null,
   "metadata": {},
   "outputs": [],
   "source": [
    "\n",
    "try:\n",
    "    name = input(\"請輸入姓名:\")\n",
    "    height = float(input(\"請輸入身高(cm):\")) / 100\n",
    "    weight = float(input(\"請輸入體重(kg):\"))\n",
    "\n",
    "    bmi = weight / (height ** 2)\n",
    "\n",
    "    if bmi < 18.5:\n",
    "        print(f\"{name}您好！您的BMI為{bmi:.2f}, 體重過輕\")\n",
    "    elif bmi < 24:\n",
    "        print(f\"{name}您好！您的BMI為{bmi:.2f}, 屬於正常範圍\")\n",
    "    elif bmi < 27:\n",
    "        print(f\"{name}您好！您的BMI為{bmi:.2f},體重過重 \")\n",
    "    elif bmi < 30:\n",
    "        print(f\"{name}您好！您的BMI為{bmi:.2f},屬於輕度肥胖 \")\n",
    "    elif bmi < 35:\n",
    "        print(f\"{name}您好！您的BMI為{bmi:.2f},屬於中度肥胖 \")\n",
    "    else:\n",
    "        print(f\"{name}您好！您的BMI為{bmi:.2f},屬於重度肥胖 \")\n",
    "\n",
    "except:\n",
    "    print(\"輸入格式錯誤\")\n",
    "\n",
    "print(\"應用程式結束\")\n",
    "\n"
   ]
  }
 ],
 "metadata": {
  "kernelspec": {
   "display_name": "Python 3",
   "language": "python",
   "name": "python3"
  },
  "language_info": {
   "name": "python",
   "version": "3.10.14"
  }
 },
 "nbformat": 4,
 "nbformat_minor": 2
}
