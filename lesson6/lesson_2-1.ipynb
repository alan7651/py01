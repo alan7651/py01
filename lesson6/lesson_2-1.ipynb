{
 "cells": [
  {
   "cell_type": "code",
   "execution_count": null,
   "metadata": {},
   "outputs": [],
   "source": [
    "\n",
    "try:\n",
    "    name = input(\"請輸入姓名:\")\n",
    "    height = int(input(\"請輸入身高(公尺):\"))\n",
    "    weight = float(input(\"請輸入體重:\"))\n",
    "\n",
    "    bmi = \n",
    "\n",
    "\n",
    "except:\n",
    "    print(\"輸入格式錯誤\")\n",
    "\n",
    "print(\"應用程式結束\")\n",
    "\n"
   ]
  }
 ],
 "metadata": {
  "kernelspec": {
   "display_name": "Python 3",
   "language": "python",
   "name": "python3"
  },
  "language_info": {
   "name": "python",
   "version": "3.10.14"
  }
 },
 "nbformat": 4,
 "nbformat_minor": 2
}
