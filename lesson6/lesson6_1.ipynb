{
 "cells": [
  {
   "cell_type": "code",
   "execution_count": 1,
   "metadata": {},
   "outputs": [
    {
     "data": {
      "text/plain": [
       "False"
      ]
     },
     "execution_count": 1,
     "metadata": {},
     "output_type": "execute_result"
    }
   ],
   "source": [
    "5 != 5"
   ]
  },
  {
   "cell_type": "code",
   "execution_count": 2,
   "metadata": {},
   "outputs": [
    {
     "data": {
      "text/plain": [
       "True"
      ]
     },
     "execution_count": 2,
     "metadata": {},
     "output_type": "execute_result"
    }
   ],
   "source": [
    "5 == 5"
   ]
  },
  {
   "cell_type": "code",
   "execution_count": 4,
   "metadata": {},
   "outputs": [
    {
     "name": "stdout",
     "output_type": "stream",
     "text": [
      "可以考駕照\n",
      "可以投票\n",
      "應用程式結束\n"
     ]
    }
   ],
   "source": [
    "age = 19\n",
    "if age >= 18:\n",
    "    print(\"可以考駕照\")\n",
    "    print(\"可以投票\")\n",
    "else:\n",
    "    print(\"不可以考駕照\")\n",
    "    print(\"不可以投票\")\n",
    "print(\"應用程式結束\")"
   ]
  },
  {
   "cell_type": "code",
   "execution_count": 9,
   "metadata": {},
   "outputs": [
    {
     "name": "stdout",
     "output_type": "stream",
     "text": [
      "已達上限\n",
      "學生分數= 300\n",
      "應用程式結束\n"
     ]
    }
   ],
   "source": [
    "try:\n",
    "    scores = int(input(\"請輸入學生分數(最高300)\"))\n",
    "except:\n",
    "    print(\"輸入格式錯誤\")\n",
    "else:\n",
    "    if not (scores > 0 and scores <= 300):\n",
    "        print(\"輸入分數超過上限\")\n",
    "    else:\n",
    "        is_add = input(\"是否符合加分條件 (y / n )\")[0].lower()\n",
    "\n",
    "        if is_add == \"y\":\n",
    "            scores *= 1.05\n",
    "            if scores > 300:\n",
    "                print(\"已達上限\")\n",
    "                scores = 300\n",
    "\n",
    "        print(\"學生分數=\",round(scores))\n",
    "        \n",
    "print(\"應用程式結束\")"
   ]
  },
  {
   "cell_type": "code",
   "execution_count": 7,
   "metadata": {},
   "outputs": [
    {
     "name": "stdout",
     "output_type": "stream",
     "text": [
      "分數大於等於80\n"
     ]
    }
   ],
   "source": [
    "score = 89\n",
    "\n",
    "if score >= 60 and score < 80:\n",
    "    print(\"分數大於等於60，小於80\")\n",
    "\n",
    "if score < 60:\n",
    "    print(\"分數小於60\")\n",
    "\n",
    "if score >= 80:\n",
    "    print(\"分數大於等於80\")"
   ]
  }
 ],
 "metadata": {
  "kernelspec": {
   "display_name": "Python 3",
   "language": "python",
   "name": "python3"
  },
  "language_info": {
   "codemirror_mode": {
    "name": "ipython",
    "version": 3
   },
   "file_extension": ".py",
   "mimetype": "text/x-python",
   "name": "python",
   "nbconvert_exporter": "python",
   "pygments_lexer": "ipython3",
   "version": "3.10.14"
  }
 },
 "nbformat": 4,
 "nbformat_minor": 2
}
