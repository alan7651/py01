{
 "cells": [
  {
   "cell_type": "code",
   "execution_count": 9,
   "metadata": {},
   "outputs": [
    {
     "name": "stdout",
     "output_type": "stream",
     "text": [
      "這是Person的一個實體，名稱:廖奕豪，記憶體位置:0x7a6a147b5720\n",
      "廖奕豪\n",
      "這是Person的一個實體，名稱:AlanLiao，記憶體位置:0x7a6a147b7f10\n",
      "AlanLiao\n"
     ]
    }
   ],
   "source": [
    "class Person():\n",
    "    def __init__(self,n:str):\n",
    "        self.name = n\n",
    "    \n",
    "    # 自訂print(self) 的時候印出的內容\n",
    "    def __repr__(self) -> str: \n",
    "        alt = f\"這是Person的一個實體，名稱:{self.name}，記憶體位置:{hex(id(self))}\"\n",
    "        return alt\n",
    "        \n",
    "\n",
    "p1 = Person(\"廖奕豪\")\n",
    "\n",
    "print(p1)\n",
    "print(p1.name)\n",
    "\n",
    "p2 = Person(\"AlanLiao\")\n",
    "print(p2)\n",
    "print(p2.name)"
   ]
  },
  {
   "cell_type": "code",
   "execution_count": 13,
   "metadata": {},
   "outputs": [
    {
     "name": "stdout",
     "output_type": "stream",
     "text": [
      "ALAN\n",
      "98\n",
      "這是Student的一個實體，名稱:ALAN，分數:98，記憶體位置:0x7a6a145b7640\n"
     ]
    }
   ],
   "source": [
    "class Person():\n",
    "    def __init__(self,n:str):\n",
    "        self.name = n\n",
    "    \n",
    "    # 自訂print(self) 的時候印出的內容\n",
    "    def __repr__(self) -> str: \n",
    "        alt = f\"這是Person的一個實體，名稱:{self.name}，記憶體位置:{hex(id(self))}\"\n",
    "        return alt\n",
    "\n",
    "\n",
    "class Student(Person):\n",
    "    def __init__(self, name: str,scores:int):\n",
    "        super().__init__(n=name)\n",
    "        self.scores = scores\n",
    "\n",
    "\n",
    "s1 = Student(\"ALAN\",98)\n",
    "print(s1.name)\n",
    "print(s1.scores)\n",
    "print(s1)"
   ]
  },
  {
   "cell_type": "code",
   "execution_count": 17,
   "metadata": {},
   "outputs": [
    {
     "name": "stdout",
     "output_type": "stream",
     "text": [
      "ALAN\n",
      "原始分數:\n",
      " 這是一個Student實體，姓名ALAN\n",
      "國文:98\n",
      "英文:75\n",
      "數學:40\n",
      "記憶體位置0x7a6a147a7250\n",
      "調整後分數:\n",
      " 這是一個Student實體，姓名ALAN\n",
      "國文:98\n",
      "英文:75\n",
      "數學:100\n",
      "記憶體位置0x7a6a147a7250\n"
     ]
    }
   ],
   "source": [
    "class Person():\n",
    "    def __init__(self,n:str):\n",
    "        self.name = n\n",
    "    \n",
    "    # 自訂print(self) 的時候印出的內容\n",
    "    def __repr__(self) -> str: \n",
    "        alt = f\"這是Person的一個實體，名稱:{self.name}，記憶體位置:{hex(id(self))}\"\n",
    "        return alt\n",
    "\n",
    "\n",
    "class Student(Person):\n",
    "    def __init__(self, name: str,chinese:int,english:int,math:int):\n",
    "        super().__init__(n=name)\n",
    "        self.chinese = chinese\n",
    "        self.english = english\n",
    "        self.math = math\n",
    "    \n",
    "    def __repr__(self):\n",
    "        alt = f\"這是一個Student實體，姓名{self.name}\\n\"\n",
    "        alt += f\"國文:{self.chinese}\\n\"\n",
    "        alt += f\"英文:{self.english}\\n\"\n",
    "        alt += f\"數學:{self.math}\\n\"\n",
    "        alt += f\"記憶體位置{hex(id(self))}\"\n",
    "        return alt\n",
    "\n",
    "s1 = Student(\"ALAN\",98,75,40)\n",
    "print(s1.name)\n",
    "print(\"原始分數:\\n\",s1)\n",
    "s1.math = 100\n",
    "print(\"調整後分數:\\n\",s1)"
   ]
  },
  {
   "cell_type": "code",
   "execution_count": 11,
   "metadata": {},
   "outputs": [
    {
     "name": "stdout",
     "output_type": "stream",
     "text": [
      "<--裝飾開始--->\n",
      "hello\n",
      "<--裝飾結尾--->\n"
     ]
    }
   ],
   "source": [
    "def outerfunction(func):\n",
    "    def wrapper():\n",
    "        print(\"<--裝飾開始--->\")\n",
    "        func()\n",
    "        print(\"<--裝飾結尾--->\")\n",
    "    return wrapper\n",
    "\n",
    "@outerfunction\n",
    "def say_hello():\n",
    "    print(\"hello\")\n",
    "\n",
    "say_hello()"
   ]
  }
 ],
 "metadata": {
  "kernelspec": {
   "display_name": "Python 3",
   "language": "python",
   "name": "python3"
  },
  "language_info": {
   "codemirror_mode": {
    "name": "ipython",
    "version": 3
   },
   "file_extension": ".py",
   "mimetype": "text/x-python",
   "name": "python",
   "nbconvert_exporter": "python",
   "pygments_lexer": "ipython3",
   "version": "3.10.14"
  }
 },
 "nbformat": 4,
 "nbformat_minor": 2
}
