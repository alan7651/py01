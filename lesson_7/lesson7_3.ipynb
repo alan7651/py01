{
 "cells": [
  {
   "cell_type": "code",
   "execution_count": 9,
   "metadata": {},
   "outputs": [
    {
     "name": "stdout",
     "output_type": "stream",
     "text": [
      "這是Person的一個實體，名稱:廖奕豪，記憶體位置:0x7a6a147b5720\n",
      "廖奕豪\n",
      "這是Person的一個實體，名稱:AlanLiao，記憶體位置:0x7a6a147b7f10\n",
      "AlanLiao\n"
     ]
    }
   ],
   "source": [
    "class Person():\n",
    "    def __init__(self,n:str):\n",
    "        self.name = n\n",
    "    \n",
    "    # 自訂print(self) 的時候印出的內容\n",
    "    def __repr__(self) -> str: \n",
    "        alt = f\"這是Person的一個實體，名稱:{self.name}，記憶體位置:{hex(id(self))}\"\n",
    "        return alt\n",
    "        \n",
    "\n",
    "p1 = Person(\"廖奕豪\")\n",
    "\n",
    "print(p1)\n",
    "print(p1.name)\n",
    "\n",
    "p2 = Person(\"AlanLiao\")\n",
    "print(p2)\n",
    "print(p2.name)"
   ]
  },
  {
   "cell_type": "code",
   "execution_count": 10,
   "metadata": {},
   "outputs": [
    {
     "name": "stdout",
     "output_type": "stream",
     "text": [
      "ALAN\n",
      "98\n",
      "這是Person的一個實體，名稱:ALAN，記憶體位置:0x7a6a240411b0\n"
     ]
    }
   ],
   "source": [
    "class Person():\n",
    "    def __init__(self,n:str):\n",
    "        self.name = n\n",
    "    \n",
    "    # 自訂print(self) 的時候印出的內容\n",
    "    def __repr__(self) -> str: \n",
    "        alt = f\"這是Person的一個實體，名稱:{self.name}，記憶體位置:{hex(id(self))}\"\n",
    "        return alt\n",
    "\n",
    "\n",
    "class Student(Person):\n",
    "    def __init__(self, name: str,scores:int):\n",
    "        super().__init__(n=name)\n",
    "        self.scores = scores\n",
    "\n",
    "s1 = Student(\"ALAN\",98)\n",
    "print(s1.name)\n",
    "print(s1.scores)\n",
    "print(s1)"
   ]
  },
  {
   "cell_type": "code",
   "execution_count": 11,
   "metadata": {},
   "outputs": [
    {
     "name": "stdout",
     "output_type": "stream",
     "text": [
      "<--裝飾開始--->\n",
      "hello\n",
      "<--裝飾結尾--->\n"
     ]
    }
   ],
   "source": [
    "def outerfunction(func):\n",
    "    def wrapper():\n",
    "        print(\"<--裝飾開始--->\")\n",
    "        func()\n",
    "        print(\"<--裝飾結尾--->\")\n",
    "    return wrapper\n",
    "\n",
    "@outerfunction\n",
    "def say_hello():\n",
    "    print(\"hello\")\n",
    "\n",
    "say_hello()"
   ]
  }
 ],
 "metadata": {
  "kernelspec": {
   "display_name": "Python 3",
   "language": "python",
   "name": "python3"
  },
  "language_info": {
   "codemirror_mode": {
    "name": "ipython",
    "version": 3
   },
   "file_extension": ".py",
   "mimetype": "text/x-python",
   "name": "python",
   "nbconvert_exporter": "python",
   "pygments_lexer": "ipython3",
   "version": "3.10.14"
  }
 },
 "nbformat": 4,
 "nbformat_minor": 2
}
