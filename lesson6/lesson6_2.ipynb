{
 "cells": [
  {
   "cell_type": "code",
   "execution_count": 3,
   "metadata": {},
   "outputs": [
    {
     "name": "stdout",
     "output_type": "stream",
     "text": [
      "分數大於等於80\n"
     ]
    }
   ],
   "source": [
    "score = 95\n",
    "\n",
    "if score < 60:\n",
    "    print(\"分數小於60\")\n",
    "elif score < 80:\n",
    "    print(\"分數大於等於60\")\n",
    "    print(\"分數小於80\")\n",
    "else:\n",
    "    print(\"分數大於等於80\")"
   ]
  }
 ],
 "metadata": {
  "kernelspec": {
   "display_name": "Python 3",
   "language": "python",
   "name": "python3"
  },
  "language_info": {
   "codemirror_mode": {
    "name": "ipython",
    "version": 3
   },
   "file_extension": ".py",
   "mimetype": "text/x-python",
   "name": "python",
   "nbconvert_exporter": "python",
   "pygments_lexer": "ipython3",
   "version": "3.10.14"
  }
 },
 "nbformat": 4,
 "nbformat_minor": 2
}
