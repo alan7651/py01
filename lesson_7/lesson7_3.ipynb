{
 "cells": [
  {
   "cell_type": "code",
   "execution_count": 10,
   "metadata": {},
   "outputs": [
    {
     "name": "stdout",
     "output_type": "stream",
     "text": [
      "這是Person的一個實體，名稱:廖奕豪\n",
      "廖奕豪\n"
     ]
    }
   ],
   "source": [
    "class Person():\n",
    "    def __init__(self,n):\n",
    "        self.name = n\n",
    "\n",
    "    def __repr__(self) -> str: # 自訂print(self) 的時候印出的內容\n",
    "        return f\"這是Person的一個實體，名稱:\"+self.name\n",
    "        \n",
    "\n",
    "p1 = Person(\"廖奕豪\")\n",
    "\n",
    "print(p1)\n",
    "print(p1.name)"
   ]
  }
 ],
 "metadata": {
  "kernelspec": {
   "display_name": "Python 3",
   "language": "python",
   "name": "python3"
  },
  "language_info": {
   "codemirror_mode": {
    "name": "ipython",
    "version": 3
   },
   "file_extension": ".py",
   "mimetype": "text/x-python",
   "name": "python",
   "nbconvert_exporter": "python",
   "pygments_lexer": "ipython3",
   "version": "3.10.14"
  }
 },
 "nbformat": 4,
 "nbformat_minor": 2
}
