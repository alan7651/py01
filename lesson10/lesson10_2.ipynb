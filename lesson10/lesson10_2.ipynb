{
 "cells": [
  {
   "cell_type": "code",
   "execution_count": 2,
   "metadata": {},
   "outputs": [
    {
     "name": "stdout",
     "output_type": "stream",
     "text": [
      "first_name='alan' last_name='liao' age=42\n",
      "first_name='alan' last_name='liao' age=42\n"
     ]
    }
   ],
   "source": [
    "from pydantic import BaseModel\n",
    "\n",
    "#繼承用:\n",
    "#BaseModel\n",
    "#RootModel\n",
    "#Field\n",
    "\n",
    "class Person(BaseModel):\n",
    "    first_name:str\n",
    "    last_name:str\n",
    "    age:int\n",
    "\n",
    "data = {\n",
    "    \"first_name\":\"alan\",\n",
    "    \"last_name\":\"liao\",\n",
    "    \"age\":\"42\"\n",
    "}\n",
    "\n",
    "data_json = '''\n",
    "{\n",
    "    \"first_name\":\"alan\",\n",
    "    \"last_name\":\"liao\",\n",
    "    \"age\":42\n",
    "}\n",
    "'''\n",
    "\n",
    "try:\n",
    "    p1 = Person(first_name=\"alan\",last_name=\"liao\",age=43)\n",
    "    p2 = Person(first_name=\"alan\",last_name=\"liao\",age=\"43\") # BaseModel 會自動依age data hint轉str 為int \n",
    "    #p3 = Person(first_name=\"alan\",last_name=\"liao\",age=\"43a\") # BaseModel 會自動檢查無法轉換的錯誤\n",
    "\n",
    "    # 將dict 自動引入class 的方法\n",
    "    p4 = Person.model_validate(data) \n",
    "    print(p4)\n",
    "\n",
    "    # 將json字串 自動引入class 的方法\n",
    "    p5 = Person.model_validate_json(data_json)\n",
    "    print(p5)\n",
    "\n",
    "except Exception as error:\n",
    "    print(error)\n"
   ]
  },
  {
   "cell_type": "code",
   "execution_count": 4,
   "metadata": {},
   "outputs": [
    {
     "name": "stdout",
     "output_type": "stream",
     "text": [
      "first_name='alan' last_name=None age=18\n"
     ]
    }
   ],
   "source": [
    "data_json = {\n",
    "    \"first_name\":\"alan\"\n",
    "}\n",
    "\n",
    "class Person(BaseModel):\n",
    "    first_name:str #require\n",
    "    last_name:str | None = None #optional \n",
    "    age:int = 18 # optional (default)\n",
    "\n",
    "p6 = Person.model_validate(data_json)\n",
    "print(p6)"
   ]
  },
  {
   "cell_type": "code",
   "execution_count": 6,
   "metadata": {},
   "outputs": [
    {
     "name": "stdout",
     "output_type": "stream",
     "text": [
      "id_=100 frist_name='John' last_name='Smith' age=42\n"
     ]
    }
   ],
   "source": [
    "data:str = '''\n",
    "{\n",
    "\"id\" :100,\n",
    "\"First Name\":\"John\",\n",
    "\"LASTNAME\":\"Smith\",\n",
    "\"age in year\": 42\n",
    "}\n",
    "'''\n",
    "\n",
    "from pydantic import BaseModel,Field\n",
    "\n",
    "class Person(BaseModel):\n",
    "    id_:int = Field(alias=\"id\")\n",
    "    frist_name:str = Field(alias=\"First Name\")\n",
    "    last_name:str | None = Field(alias=\"LASTNAME\",default=None)\n",
    "    age:int = Field(alias=\"age in year\",default=18)\n",
    "\n",
    "p8 = Person.model_validate_json(data)\n",
    "print(p8)"
   ]
  },
  {
   "cell_type": "code",
   "execution_count": 8,
   "metadata": {},
   "outputs": [
    {
     "name": "stdout",
     "output_type": "stream",
     "text": [
      "first_name='Arthur' last_name='Clarke' born=Born(date='2001-01-01', place=Place(country='Lunar Colony', city='Central City'))\n",
      "Lunar Colony\n",
      "Central City\n"
     ]
    }
   ],
   "source": [
    "data = '''\n",
    "{\n",
    "    \"firstName\": \"Arthur\",\n",
    "    \"lastName\": \"Clarke\",\n",
    "    \"born\":{\n",
    "        \"place\":{\n",
    "            \"country\":\"Lunar Colony\",\n",
    "            \"city\": \"Central City\"\n",
    "        },\n",
    "        \"date\":\"2001-01-01\"\n",
    "    }\n",
    "}\n",
    "'''\n",
    "\n",
    "class Place(BaseModel):\n",
    "    country:str\n",
    "    city:str\n",
    "\n",
    "class Born(BaseModel):\n",
    "    date:str\n",
    "    place:Place\n",
    "\n",
    "class Person(BaseModel):\n",
    "    first_name:str = Field(alias=\"firstName\")\n",
    "    last_name:str | None = Field(alias=\"lastName\",default=None)\n",
    "    born:Born\n",
    "\n",
    "p9 = Person.model_validate_json(data)\n",
    "print(p9)\n",
    "print(p9.born.place.country)\n",
    "print(p9.born.place.city)\n",
    "\n"
   ]
  }
 ],
 "metadata": {
  "kernelspec": {
   "display_name": "Python 3",
   "language": "python",
   "name": "python3"
  },
  "language_info": {
   "codemirror_mode": {
    "name": "ipython",
    "version": 3
   },
   "file_extension": ".py",
   "mimetype": "text/x-python",
   "name": "python",
   "nbconvert_exporter": "python",
   "pygments_lexer": "ipython3",
   "version": "3.10.14"
  }
 },
 "nbformat": 4,
 "nbformat_minor": 2
}
