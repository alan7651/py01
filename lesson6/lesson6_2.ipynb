{
 "cells": [
  {
   "cell_type": "code",
   "execution_count": 3,
   "metadata": {},
   "outputs": [
    {
     "name": "stdout",
     "output_type": "stream",
     "text": [
      "分數大於等於80\n"
     ]
    }
   ],
   "source": [
    "score = 95\n",
    "\n",
    "if score < 60:\n",
    "    print(\"分數小於60\")\n",
    "elif score < 80:\n",
    "    print(\"分數大於等於60\")\n",
    "    print(\"分數小於80\")\n",
    "else:\n",
    "    print(\"分數大於等於80\")"
   ]
  },
  {
   "cell_type": "code",
   "execution_count": 6,
   "metadata": {},
   "outputs": [
    {
     "name": "stdout",
     "output_type": "stream",
     "text": [
      "學生分數= 299\n",
      "應用程式結束\n"
     ]
    }
   ],
   "source": [
    "try:\n",
    "    scores = int(input(\"請輸入學生分數(最高300)\"))\n",
    "\n",
    "    if not (scores > 0 and scores <= 300):\n",
    "        print(\"輸入分數超過上限\")\n",
    "    else:\n",
    "        is_add = input(\"是否符合加分條件 (y / n )\")\n",
    "\n",
    "        if is_add == \"y\":\n",
    "            scores *= 1.05\n",
    "            if scores > 300:\n",
    "                print(\"已達上限\")\n",
    "                scores = 300\n",
    "\n",
    "        print(\"學生分數=\",round(scores))\n",
    "except:\n",
    "    print(\"輸入格式錯誤\")\n",
    "        \n",
    "print(\"應用程式結束\")"
   ]
  }
 ],
 "metadata": {
  "kernelspec": {
   "display_name": "Python 3",
   "language": "python",
   "name": "python3"
  },
  "language_info": {
   "codemirror_mode": {
    "name": "ipython",
    "version": 3
   },
   "file_extension": ".py",
   "mimetype": "text/x-python",
   "name": "python",
   "nbconvert_exporter": "python",
   "pygments_lexer": "ipython3",
   "version": "3.10.14"
  }
 },
 "nbformat": 4,
 "nbformat_minor": 2
}
