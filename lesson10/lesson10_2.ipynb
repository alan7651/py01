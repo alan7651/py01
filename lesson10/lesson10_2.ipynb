{
 "cells": [
  {
   "cell_type": "code",
   "execution_count": 7,
   "metadata": {},
   "outputs": [
    {
     "name": "stdout",
     "output_type": "stream",
     "text": [
      "first_name='alan' last_name='liao' age=42\n",
      "first_name='alan' last_name='liao' age=42\n"
     ]
    }
   ],
   "source": [
    "from pydantic import BaseModel\n",
    "\n",
    "#繼承用:\n",
    "#BaseModel\n",
    "#RootModel\n",
    "#Field\n",
    "\n",
    "class Person(BaseModel):\n",
    "    first_name:str\n",
    "    last_name:str\n",
    "    age:int\n",
    "\n",
    "data = {\n",
    "    \"first_name\":\"alan\",\n",
    "    \"last_name\":\"liao\",\n",
    "    \"age\":\"42\"\n",
    "}\n",
    "\n",
    "data_json = '''\n",
    "{\n",
    "    \"first_name\":\"alan\",\n",
    "    \"last_name\":\"liao\",\n",
    "    \"age\":42\n",
    "}\n",
    "'''\n",
    "\n",
    "try:\n",
    "    p1 = Person(first_name=\"alan\",last_name=\"liao\",age=43)\n",
    "    p2 = Person(first_name=\"alan\",last_name=\"liao\",age=\"43\") # BaseModel 會自動依age data hint轉str 為int \n",
    "    #p3 = Person(first_name=\"alan\",last_name=\"liao\",age=\"43a\") # BaseModel 會自動檢查無法轉換的錯誤\n",
    "\n",
    "    # 將dict 自動引入class 的方法\n",
    "    p4 = Person.model_validate(data) \n",
    "    print(p4)\n",
    "\n",
    "    # 將json字串 自動引入class 的方法\n",
    "    p5 = Person.model_validate_json(data_json)\n",
    "    print(p5)\n",
    "\n",
    "except Exception as error:\n",
    "    print(error)\n"
   ]
  }
 ],
 "metadata": {
  "kernelspec": {
   "display_name": "Python 3",
   "language": "python",
   "name": "python3"
  },
  "language_info": {
   "codemirror_mode": {
    "name": "ipython",
    "version": 3
   },
   "file_extension": ".py",
   "mimetype": "text/x-python",
   "name": "python",
   "nbconvert_exporter": "python",
   "pygments_lexer": "ipython3",
   "version": "3.10.14"
  }
 },
 "nbformat": 4,
 "nbformat_minor": 2
}
